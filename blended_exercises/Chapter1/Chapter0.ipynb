{
 "cells": [
  {
   "cell_type": "markdown",
   "metadata": {},
   "source": [
    "# Cloud computing and Jupyter Notebooks\n",
    "\n",
    "To enable us to remote work and learn the necessary tools for Data Science (and scientific research in general), we will be using two modern computing concepts: **Interactive coding** (with Jupyter notebooks) and **cloud computing (with Google Colab)**.  Google Colab is a free place to run code without needing huge machines.\n",
    "\n",
    "This notebook we will help you get set up with Jupyter notebooks and cloud computing. We will need to get started in Google Colab first.  All of the instructions in these notebooks will be for running in Google Colab though you can also use your own installation of Jupyter Notebook on your computer (preferably via Anaconda to ensure you have all the material and right software for the course).\n",
    "\n",
    "\n",
    "Jupyter notebooks allow us to write text in cells using the **Markdown** format.\n",
    "\n",
    "It also allows us to write code in cells, we will use **Python 3** in this course."
   ]
  },
  {
   "cell_type": "markdown",
   "metadata": {},
   "source": [
    "## Why are we using these tools?\n",
    "\n",
    "Jupyter notebooks combined with python and cloud computing is pretty much how almost all modern computing in sceintific research and in industry is carried out.   It will make online working easier for us in this course, but these are also very useful skills to have on your CV.  It may surprise you to know that Jupyter notebooks are used in all sorts of fields including in intrepreting data of covid-19 infection spread, in the Nobel prize winning gravitational wave physics research, Google, Microsoft, finance institutions and many more.\n",
    "\n",
    "Python 3 is an extremely common open source computing language that allows us to do serious computing in a few lines of code. Again this is widely used in industry and is the language of choice for NASA, Google, CERN, Instagram, Spotify, YouTube, Industrial Light & Magic, Pixar, JPMorgan Chase and Citadel.  Why is it so popular?  It's easy to learn, clear to read, and simple to write."
   ]
  },
  {
   "cell_type": "markdown",
   "metadata": {},
   "source": [
    "## You will learn the following things this week:\n",
    "\n",
    "- How to use Jupyter (Colaboratory) notebooks\n",
    "- How to set up your Google Colaboratory \n",
    "- How to access and submit Jupyter Notebook assignments\n",
    "- How to write a Python program and run it"
   ]
  },
  {
   "cell_type": "markdown",
   "metadata": {},
   "source": [
    "## Getting Started\n",
    "\n",
    "1. First, watch the online video for Chapter 0.\n",
    "2. If you don't have one yet, sign up to a free account on Google.\n",
    "3. Go to [Google colab](https://colab.research.google.com/).  You will land on the introduction page. \n",
    "4. Sign in with your Google account using the blue button in the top right\n",
    "\n",
    "Your screen might look like this\n",
    "\n",
    "![Screenshot](https://github.com/haleygomez/Data-Science-2024/raw/master/blended_exercises/Chapter1/Colab_screenshot_sign_in.png)"
   ]
  },
  {
   "cell_type": "markdown",
   "metadata": {},
   "source": [
    "### Creating a new notebook or Accessing files\n",
    "\n",
    "You can see at the top in the orange bar that there are a few options: we can upload files, we can load in files from Google Drive, we can load in examples or see recent work. In the list, we can see our current Jupyter Notebooks. To open these we can simply click on them.\n",
    "\n",
    "To create a new notebook, we can click <font color=\"blue\">new notebook</font>. This will take you to a notebook without a title.\n",
    "\n",
    "![Screenshot](https://github.com/haleygomez/Data-Science-2024/raw/master/blended_exercises/Chapter1/Colab_screenshot_new_notebook_crop.png)\n",
    "\n",
    "You change the name for your notebook e.g. myfirstjupyternotebook.ipynb and select whether you want a code or text cell by clicking the regions highilighted with purple markers.\n",
    "\n",
    "Open your notebook. Hopefully it will not look to strange to you since Jupyter Notebooks is simply a word processor and code compiler in one. Take some time to look at the menus and see what different options there are. \n"
   ]
  },
  {
   "cell_type": "markdown",
   "metadata": {},
   "source": [
    "### Notebook cells\n",
    "\n",
    "The notebook contains cells. A cell is a place to either display text or to write some code to be executed by the notebook’s kernel. A kernel is the engine that runs the cells in the notebook.\n",
    "\n",
    "Here is a screenshot of the Chapter 1 notebook opened in Google Colab as an example.\n",
    "\n",
    "![Screenshot](https://github.com/haleygomez/Data-Science-2024/raw/master/blended_exercises/Chapter1/Colab_screenshot_ch1.png)\n",
    "\n",
    "The code we will use is Python 3. It is a popular and common language which is free and openly available to all.  Here is an example of code within the notebook environment\n",
    "\n",
    "![Screenshot](https://github.com/haleygomez/Data-Science-2024/raw/master/blended_exercises/Chapter1/Colab_screenshot_ch1_code.png)\n",
    "\n",
    "To execute the cell, we can click the play sign. \n",
    "\n",
    "![Screenshot](https://github.com/haleygomez/Data-Science-2024/raw/master/blended_exercises/Chapter1/Colab_screenshot_ch1_run.png)"
   ]
  },
  {
   "cell_type": "markdown",
   "metadata": {},
   "source": [
    "Note that in Colab, the 'maximum lifetime' of a running notebook is 12 hours if you leave the browser open. An idle notebook instance cuts-off after 90 minutes. "
   ]
  },
  {
   "cell_type": "markdown",
   "metadata": {},
   "source": [
    "### Some useful things\n",
    "\n",
    "1. On the left hand side is a hidden menu that contains useful things. It includes code snippets which you can use or even add to if you want.  It also shows a \"table of contents\" of your current notebook, allowing you to navigate easily to whichever part of the notebook you want.\n",
    "\n",
    "![Screenshot](https://github.com/haleygomez/Data-Science-2024/raw/master/blended_exercises/Chapter1/Colab_screenshot_menu.png)\n",
    "\n",
    "2. The small folder symbol below this navigation menu is where you can upload data files relevant to the Jupyter Notebook you're working on.\n",
    "\n",
    "![Screenshot](https://github.com/haleygomez/Data-Science-2024/raw/master/blended_exercises/Chapter1/Colab_screenshot_upload.png)\n",
    "\n",
    "3. You can download your Notebook using \"File > Download as\".\n",
    "\n",
    "4. Under the \"Tools\" menu in Google Colab, there is a `command palette` which allows you to select multiple different options eg \"move cells up/down\" or \"stop the execution\" of the code.\n",
    "\n",
    "5. You can stop executing notebooks by clicking on \"Manage your sessions\" in the \"Connect\" menu.  This will open all the notebooks that are currently running and you can stop them.\n",
    "\n",
    "![Screenshot](https://github.com/haleygomez/Data-Science-2024/raw/master/blended_exercises/Chapter1/Colab_screenshot_manage.png)"
   ]
  },
  {
   "cell_type": "markdown",
   "metadata": {},
   "source": [
    "## Opening up the exercises and coursework assessments\n",
    "\n",
    "We will open the Jupyter Notebooks for this course in Google Colab. \n",
    "\n",
    "1. In Learning Central, copy the url link provided under the relevant Chapter. \n",
    "2. Go to the Google Colab site and log in\n",
    "3. select \"File > Open Notebook\" and select the **Github** option in the orange tab.  Github is where I have stored the notebooks.  \n",
    "4. Paste the url from Learning Central and then **click the spyglass** (see image below).\n",
    "\n",
    "![Screenshot](https://github.com/haleygomez/Data-Science-2024/raw/master/blended_exercises/Chapter1/Colab_screenshot_spyglass.png)\n",
    "\n",
    "Alternatively you can download all of the notebooks from Learning Central and upload them using the \"File > Upload Notebook > Choose File\" This is also the simplest way to get the notebooks for those using their own Anaconda installation.\n",
    "\n",
    "The first thing you should do when you open a Jupyter Notebook is select Runtime in the top menu and Run All or (for Anaconda: Cell and select Run All). This will ensure you have everything formatted correctly. Do this now for this notebook.  </font>\n",
    "\n"
   ]
  },
  {
   "cell_type": "markdown",
   "metadata": {},
   "source": [
    "## Opening Files\n",
    "\n",
    "We can open data files three ways. \n",
    "\n",
    "1. The example in the video shows the standard one where you download a file to your computer, then upload the file using the folder icon on the left hand side in Colab. Then you can \"read\" it in once uploaded using the following code snippet:\n",
    "\n",
    "> `import numpy as np`\n",
    "\n",
    "> `data = np.genfromtxt('filename.dat')`\n",
    "\n",
    "2. If you are using Google colab and there is a url link to the file, we can also use something called wget. The following commands find the file and name it:\n",
    "\n",
    "> `!wget -O filename.dat \"https://github.com/haleygomez/Data-Science-2024/raw/main/blended_exercises/Chapter1/DataScience_testfile.dat\"`\n",
    "\n",
    "> `data = np.genfromtxt('filename.dat')`\n",
    "\n",
    "3. **If you are on your own computer (ie not using Google colab)** then the following will work. This will not work in Google Colab:\n",
    "\n",
    "> `%pip install wget`\n",
    "\n",
    "> `url = 'https://github.com/haleygomez/Data-Science-2024/raw/main/blended_exercises/Chapter1/DataScience_testfile.dat'`\n",
    "\n",
    "> `filename  = wget.download(url)`\n",
    "\n",
    "> `data = np.genfromtxt('filename')`"
   ]
  },
  {
   "cell_type": "markdown",
   "metadata": {},
   "source": [
    "## Saving\n",
    "\n",
    "Don't forget to **Save** your notebook. Do this via clicking \"File > Save\" or pressing Ctrl + S.  When you do this you'll see a pop up window like the image below\n",
    "\n",
    "![Screenshot](https://github.com/haleygomez/Data-Science-2024/raw/main/blended_exercises/Chapter1/Colab_screenshot_save.png)\n",
    "\n",
    "Make sure you select \"Save a copy to Drive\". This will save your notebook in Google Drive (accessible with your username and password) and it will also then appear in the list when you next try to open files in Colab (see below):\n",
    "\n",
    "![Screenshot](https://github.com/haleygomez/Data-Science-2024/raw/master/blended_exercises/Chapter1/Colab_screenshot_appear.png)\n",
    "\n",
    "It is best practice to save your changes regularly as computers or browsers can crash or 'hang'. \n",
    "\n",
    "Make sure you name your file something sensible eg Chapter1_notes.ipynb, Chapter1_answers.ipynb etc. "
   ]
  },
  {
   "cell_type": "markdown",
   "metadata": {},
   "source": [
    "## Submitting coursework\n",
    "\n",
    "For submission of coursework assessments (2 pieces) you will need to submit the results of your Jupyter Notebook to Turnitin on Learning Central.  To do this your notebook needs to be in a pdf or html format.  \n",
    "\n",
    "In google colab, you will need to select \"print\" from the \"File\" menu and \"Save as PDF\". \n",
    "(Anaconda: You can export your files to HTML or PDF under the menu File > Download As.)  \n",
    "\n",
    "Don’t forget to double check that the output file you created has **all the cells compiled** (as we need them to be compiled to output the answers or make the Markdown text readable) **before you submit**.   \n",
    "\n",
    "If section headings are used (as they are in the notebooks for this course), Colab can sometimes hide the cell contents within sections and subsections. This is useful as it makes our notebooks less crowded but for marking your work, you need to be very careful. If these cells are hidden in Colab and not all fully opened (by clicking the play button next to the section heading) then this will also appear hidden in the pdf.  This may look something like the image below:\n",
    "\n",
    "![Screenshot_hidden](https://github.com/haleygomez/Data-Science-2024/raw/master/blended_exercises/Chapter1/Colab_screenshot_hidden_crop.png)\n",
    "\n",
    "In this case I wouldn't be able to mark your answer as it's not visible on the pdf! So make sure all the cells are compiled (run) and make sure all the cells are \"open\" or visible before saving as pdf and submitting it to Turnitin. In the example below we show the previously hidden cells, and lo and behold our answer is in there, ready to be marked.\n",
    "\n",
    "![Screenshot_show](https://github.com/haleygomez/Data-Science-2024/raw/master/blended_exercises/Chapter1/Colab_screenshot_show.png)\n",
    "\n",
    "Make sure you name your file something sensible eg Assessment1_answers.ipynb "
   ]
  },
  {
   "cell_type": "markdown",
   "metadata": {},
   "source": [
    "## Tips and warnings"
   ]
  },
  {
   "cell_type": "markdown",
   "metadata": {},
   "source": [
    "1. You do not have to use Google Colab, you can use your own installation of Jupyter notebooks by downloading Anaconda3 to your computer. Please see [here](https://www.anaconda.com/products/individual) for the instructions for downloading this depending on your machine type.\n",
    "\n",
    "2. You can find all of the notebooks and assessments on Learning Central. They are labelled in order of Chapter number, this is roughly (but not always) linked to the teaching week number.  The Chapter numbers are in the order that we will go through in the course.\n",
    "\n",
    "3. Reading the [Google colab overview](https://colab.research.google.com/notebooks/basic_features_overview.ipynb) is a good starting point for Jupyter notebooks.\n",
    "\n",
    "4. You can edit and re-execute cells, but be careful - sometimes this can lead to problems with subsequent cells. Sometimes cells can try to remember variables or functions or datafiles that have been deleted. First you can try clearing the outputs using \"Edit -> Clear all outputs\". The best thing to do if things seem to be going wrong is to reset your environment:\n",
    "    1. Runtime -> Restart runtime : resets the Python shell\n",
    "    2. Runtime -> Restart all runtimes :  resets Colab to have a 100% clean environment\n",
    "    \n",
    "5. If using Anaconda Jupiter Notebooks then use \"Kernel > Restart\" to clear your environment."
   ]
  },
  {
   "cell_type": "markdown",
   "metadata": {},
   "source": [
    "## Steps for each week\n",
    "**For each week/Chapter we will go through the following steps:**\n",
    "1. Watch the appropriate (Chapter X) lecture videos on Learning Central\n",
    "2. Upload the the relevant (Chapter X) Jupyter Notebook in Colab or use the link provided in Learning Central.\n",
    "3. Read and work through the notebook.\n",
    "4. Try the Chapter X quiz on Learning Central to solidify your learning.\n",
    "5. Attend Live Sessions and complete Chapter X - Your Turn notebook to put your learning into practice."
   ]
  }
 ],
 "metadata": {
  "kernelspec": {
   "display_name": "Python 3 (ipykernel)",
   "language": "python",
   "name": "python3"
  },
  "language_info": {
   "codemirror_mode": {
    "name": "ipython",
    "version": 3
   },
   "file_extension": ".py",
   "mimetype": "text/x-python",
   "name": "python",
   "nbconvert_exporter": "python",
   "pygments_lexer": "ipython3",
   "version": "3.9.13"
  }
 },
 "nbformat": 4,
 "nbformat_minor": 2
}
