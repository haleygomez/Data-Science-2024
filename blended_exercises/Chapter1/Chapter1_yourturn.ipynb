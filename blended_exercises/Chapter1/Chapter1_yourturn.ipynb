{
 "cells": [
  {
   "cell_type": "markdown",
   "metadata": {},
   "source": [
    "# To be completed at the Live Session and in your own time.\n",
    "\n",
    "These set of examples we will help you get familiar with Jupyter notebooks and useful Python packages and terminology - this is important not only for practice required for the assessements, but also to go through some of the basic concepts that will be needed to understand how to do data science, using Python and Jupyter Notebooks as our tools. \n",
    "\n",
    "Before attempting these examples, please ensure you have read through [Chapter 1 Jupyter Notebook](https://github.com/haleygomez/Data-Science-2024/blob/main/blended_exercises/Chapter1/Chapter1.ipynb) and have completed the Learning Central **Chapter 1 quiz**. "
   ]
  },
  {
   "cell_type": "markdown",
   "metadata": {},
   "source": [
    "First we will define some useful packages we want to use in this notebook to answer the following questions:"
   ]
  },
  {
   "cell_type": "code",
   "execution_count": 1,
   "metadata": {},
   "outputs": [],
   "source": [
    "# define and import some important things \n",
    "import numpy as np\n",
    "import pylab as plt\n",
    "\n",
    "%matplotlib inline "
   ]
  },
  {
   "cell_type": "markdown",
   "metadata": {},
   "source": [
    "***"
   ]
  },
  {
   "cell_type": "markdown",
   "metadata": {},
   "source": [
    "\n",
    "# Plotting in Python"
   ]
  },
  {
   "cell_type": "markdown",
   "metadata": {},
   "source": [
    "## Question "
   ]
  },
  {
   "cell_type": "markdown",
   "metadata": {},
   "source": [
    "A star brightens over time until it explodes as a supernova. Astronomers record the brightness (as a factor of the normal brightness) with days since it started to brighten, recording the following datasets: <br><br>\n",
    "\n",
    "time = [0.,0.08163265,    0.24489796,  0.32653061,  \n",
    "  0.48979592,   0.73469388,  0.81632653,  \n",
    "  0.97959184 ,  1.2244898 ,  1.30612245,  \n",
    "  1.46938776  ,1.71428571,  1.79591837, \n",
    "  1.95918367 ,   2.20408163,  2.28571429,  \n",
    "  2.44897959 ,    2.7755102,\n",
    "  2.93877551 ,  3.18367347 , 3.26530612  ,\n",
    "  3.42857143 , 3.67346939,  3.75510204   , 4.       ]\n",
    "<br><br>\n",
    "\n",
    "brightness = [0.36253211,    1.16748232 ,\n",
    "  1.78775018,  2.01934344 ,   2.70657393 ,\n",
    "  2.57897185,  2.96562829 ,    3.00174824 ,\n",
    "  2.93663326,  2.80591525 ,   2.11027035 ,\n",
    "  1.67940753,  1.64772549 ,  0.3513817  ,\n",
    "  0.33366962,  0.47097419 , -0.39790443,\n",
    " -0.65133529, -1.52086508 , -1.76831912,\n",
    " -2.05865798, -1.55083722 ,-1.90755375 ,\n",
    " -1.74307249, -1.66250842] \n",
    "\n",
    "<br>\n",
    "\n",
    "Day 0 marks the time of the explosion. \n",
    "<br>\n",
    "\n",
    "1. Plot the data. Don't forget to label the axes. Set the colour of the data to be green with a diamond marker with marker size = 50. <br><br>\n",
    "\n",
    "2. The brightness values have an estimated error of 10%.  Plot the datapoints with errorbars in $y$.   <br><br>\n",
    "\n",
    "3. Astronomer Rees argues that this data could be fit by the function $y =  Asin(Bx)+C$. Plot this function on top of your data with some guesses at what $A$, $B$ and $C$ are (hint: $C=0.5$ provides a good fit to the data).<br><br>\n",
    "\n",
    "4. Discuss the plot."
   ]
  },
  {
   "cell_type": "markdown",
   "metadata": {},
   "source": [
    "### Answer:"
   ]
  },
  {
   "cell_type": "markdown",
   "metadata": {},
   "source": [
    "*Your answer here:*"
   ]
  },
  {
   "cell_type": "markdown",
   "metadata": {},
   "source": [
    "\n"
   ]
  },
  {
   "cell_type": "markdown",
   "metadata": {},
   "source": [
    "***"
   ]
  },
  {
   "cell_type": "markdown",
   "metadata": {},
   "source": [
    " # Conditional Statements"
   ]
  },
  {
   "cell_type": "markdown",
   "metadata": {},
   "source": [
    "## Question "
   ]
  },
  {
   "cell_type": "markdown",
   "metadata": {},
   "source": [
    "You are driving too fast and a police officer stops you. Write a **function** to return one of 3 possible results: \"No ticket\", \"Small ticket\", or \"Big Ticket\". If your speed is 70mph or less, the result is \"No Ticket\". If speed is between 71 and 80mph inclusive, the result is \"Small Ticket\". If speed is 81mph or more, the result is \"Big Ticket\". Unless it is your birthday -- on your birthday, the police officer will let you go at 5mph higher in all cases.\n",
    "<br> \n",
    "\n",
    "Tip: For your birthday, use True and False statements.\n",
    "<br> \n",
    "\n",
    "Demonstrate your code works using print statements."
   ]
  },
  {
   "cell_type": "markdown",
   "metadata": {},
   "source": [
    "### Answer:"
   ]
  },
  {
   "cell_type": "markdown",
   "metadata": {},
   "source": [
    "*Your answer here:*"
   ]
  }
 ],
 "metadata": {
  "kernelspec": {
   "display_name": "Python 3 (ipykernel)",
   "language": "python",
   "name": "python3"
  },
  "language_info": {
   "codemirror_mode": {
    "name": "ipython",
    "version": 3
   },
   "file_extension": ".py",
   "mimetype": "text/x-python",
   "name": "python",
   "nbconvert_exporter": "python",
   "pygments_lexer": "ipython3",
   "version": "3.9.13"
  }
 },
 "nbformat": 4,
 "nbformat_minor": 2
}
