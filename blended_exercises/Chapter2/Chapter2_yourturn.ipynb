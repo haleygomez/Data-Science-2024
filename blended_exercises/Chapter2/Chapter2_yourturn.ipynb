{
 "cells": [
  {
   "cell_type": "markdown",
   "metadata": {},
   "source": [
    "# To be completed at the Live Session and in your own time.\n",
    "\n",
    "These set of examples we will help you get familiar with estimating probabilities and using Bayes Theorem within a Jupyter notebook. The questions coloured green are important practice for CA.\n",
    "\n",
    "Before attempting these examples, please ensure you have read through [Chapter 2 Jupyter Notebook](https://github.com/haleygomez/Data-Science-2024/blob/master/blended_exercises/Chapter2/Chapter2.ipynb) and have completed the Learning Central **Chapter 2 quiz**. \n",
    "\n",
    "These are good practice for CA 1 Questions 1 and 4."
   ]
  },
  {
   "cell_type": "markdown",
   "metadata": {},
   "source": [
    "***"
   ]
  },
  {
   "cell_type": "markdown",
   "metadata": {},
   "source": [
    "# Probabilities"
   ]
  },
  {
   "cell_type": "markdown",
   "metadata": {},
   "source": [
    "***"
   ]
  },
  {
   "cell_type": "markdown",
   "metadata": {},
   "source": [
    "## Question"
   ]
  },
  {
   "cell_type": "markdown",
   "metadata": {},
   "source": [
    "You want to send a document to your bank and it is very important it gets there the next day. You therefore send two copies of the document using Hermes (delivery service $A$) and the Royal Mail (delivery service $B$).  The probabilities of those companies delivering on time are:\n",
    "\n",
    "- 0.90 for service A\n",
    "- 0.80 for service B \n",
    "- 0.75 for both services being on time.\n",
    "\n",
    "Does your strategy improve the chances the document will be delivered on time? "
   ]
  },
  {
   "cell_type": "markdown",
   "metadata": {},
   "source": [
    "### Answer"
   ]
  },
  {
   "cell_type": "markdown",
   "metadata": {},
   "source": [
    "*Your answer here.*"
   ]
  },
  {
   "cell_type": "markdown",
   "metadata": {},
   "source": [
    "***"
   ]
  },
  {
   "cell_type": "markdown",
   "metadata": {},
   "source": [
    "## <font color=#30a64d>Question</font>"
   ]
  },
  {
   "cell_type": "markdown",
   "metadata": {},
   "source": [
    "You flip a coin 5 times. What is the probability that heads will not occur 3 times?    "
   ]
  },
  {
   "cell_type": "markdown",
   "metadata": {},
   "source": [
    "### Answer"
   ]
  },
  {
   "cell_type": "markdown",
   "metadata": {},
   "source": [
    "*Your answer here.*"
   ]
  },
  {
   "cell_type": "markdown",
   "metadata": {},
   "source": [
    "***"
   ]
  },
  {
   "cell_type": "markdown",
   "metadata": {},
   "source": [
    "# Bayes Theorem"
   ]
  },
  {
   "cell_type": "markdown",
   "metadata": {},
   "source": [
    "## <font color=#30a64d>Question</font>"
   ]
  },
  {
   "cell_type": "markdown",
   "metadata": {},
   "source": [
    "Suppose you think you have a rare disease where 1 in 10,000 people are affected. You go to your doctor, and she performs a test. The test is of a high quality, and is correct 99% of the time.\n",
    "\n",
    "Unfortunately your results come back positive for the disease. What is your chance of having the disease? Is it (roughly): <br><br>\n",
    "\n",
    "a) 99% <br>\n",
    "b) 90% <br>\n",
    "c) 10% or <br>\n",
    "d) 1%? <br> <br>\n",
    "\n",
    "Repeat the same as above, but change 1 in 10,000 to 1 in 100. What would the chances of having the disease be now?"
   ]
  },
  {
   "cell_type": "markdown",
   "metadata": {},
   "source": [
    "### Answer"
   ]
  },
  {
   "cell_type": "markdown",
   "metadata": {},
   "source": [
    "*Your answer here.*"
   ]
  },
  {
   "cell_type": "markdown",
   "metadata": {},
   "source": [
    "## Question"
   ]
  },
  {
   "cell_type": "markdown",
   "metadata": {},
   "source": [
    "We saw in [Chapter 2 Notebook](https://github.com/haleygomez/Data-Science-2024/blob/master/blended_exercises/Chapter2/Chapter2.ipynb) that the probability that a couple has 2 children that are boys when the older child is a boy is 50%. \n",
    "\n",
    "What about the following scenario: a couple has two children, of which at least one is a boy. If the probabilities of having a boy or a girl are both 50%, what is the probability that the couple has two boys?\n",
    "\n",
    "At first glance, this appears to be asking the same question as in our previous notebook. We might reason as follows: “We know that one is a boy, so the only question is whether the other one is a boy, and the chances of that being the case are 50%. So again, the answer is 50%.”\n",
    "\n",
    "Although this sounds common sense, it is incorrect.  Show why."
   ]
  },
  {
   "cell_type": "markdown",
   "metadata": {},
   "source": [
    "### Answer"
   ]
  },
  {
   "cell_type": "markdown",
   "metadata": {},
   "source": [
    "*Your answer here.*"
   ]
  }
 ],
 "metadata": {
  "kernelspec": {
   "display_name": "Python 3 (ipykernel)",
   "language": "python",
   "name": "python3"
  },
  "language_info": {
   "codemirror_mode": {
    "name": "ipython",
    "version": 3
   },
   "file_extension": ".py",
   "mimetype": "text/x-python",
   "name": "python",
   "nbconvert_exporter": "python",
   "pygments_lexer": "ipython3",
   "version": "3.9.13"
  }
 },
 "nbformat": 4,
 "nbformat_minor": 2
}
