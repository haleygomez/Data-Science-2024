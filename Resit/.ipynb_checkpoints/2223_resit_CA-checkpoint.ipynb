{
 "cells": [
  {
   "cell_type": "markdown",
   "metadata": {},
   "source": [
    "## Data Analysis 2022/2023 - Resit Coursework\n",
    "***"
   ]
  },
  {
   "cell_type": "markdown",
   "metadata": {},
   "source": [
    "### Tips\n",
    "\n",
    "- 25% of the marks are for explanation of the reasoning and background knowledge being used to answer the question.\n",
    "\n",
    "- No details of code/workings out *in the notebook* can at best achieve half marks for the question."
   ]
  },
  {
   "cell_type": "markdown",
   "metadata": {},
   "source": [
    "***\n",
    "## QUESTION 1\n",
    "***"
   ]
  },
  {
   "cell_type": "markdown",
   "metadata": {},
   "source": [
    "Write down the mean and standard deviation for a normal distribution and a Binomial distribution.\n",
    "\n",
    "The probability that a student is accepted to a prestigious university is 0.19. If 5 students from the same school apply, what is the probability that at most 2 are accepted?\n",
    "\n",
    "[10 marks]"
   ]
  },
  {
   "cell_type": "markdown",
   "metadata": {},
   "source": [
    "#### Answer:"
   ]
  },
  {
   "cell_type": "markdown",
   "metadata": {},
   "source": [
    "*Your answer here*"
   ]
  },
  {
   "cell_type": "markdown",
   "metadata": {},
   "source": [
    "***\n",
    "## QUESTION 2\n",
    "***"
   ]
  },
  {
   "cell_type": "markdown",
   "metadata": {},
   "source": [
    "**a**. Define the terms: prior, likelihood, posterior in relation to Bayes Rule in terms of probability (use words).\n",
    "\n",
    "**b**. Professor Dumbledore, studying the extinction of the elephant bird, discovers a new set of egg remnants in an unexplored valley in Madagascar. The remnants are radio carbon dated and found to have the following ages in years:\n",
    "\n",
    "2141.22, 1781.15, 1523.37, 1816.90, 1932.29, 1541.21, 720.782, 1026.22, 1687.22, 2460.59\n",
    "\n",
    "Professor Snape however did a previous study in the next valley where he found eggs that were on average 1200 years old, following a normal distribution with standard deviation of 300 years. \n",
    "\n",
    "What is the mean and standard deviation of the age of elephant bird eggs based on this information?  This is a Bayesian probability, you can use the analytical expressions form the notes to determine the posterior age of the elephant bird eggs. Describe all your steps.\n",
    "\n",
    "\n",
    "[50 marks]"
   ]
  },
  {
   "cell_type": "markdown",
   "metadata": {},
   "source": [
    "#### Answer:"
   ]
  },
  {
   "cell_type": "markdown",
   "metadata": {},
   "source": [
    "*Your answer here*"
   ]
  },
  {
   "cell_type": "markdown",
   "metadata": {},
   "source": [
    "## Question 3\n",
    "***"
   ]
  },
  {
   "cell_type": "markdown",
   "metadata": {},
   "source": [
    "The government wants to investigate graduate earnings, and so they collect information on graduate earnings (in £1000s) compared to the average UK salary $y$ as well as the number of years after they graduated $x$. This data is found in DataAnalysis_datafile_2.dat. \n",
    "\n",
    "Perform a straight line fit to the data, calculating, and reporting all the errors, and plotting the data where appropriate.  Use the information provided in the course notes to determine the true error on the best fit parameters.\n",
    "\n",
    "[40 marks]"
   ]
  },
  {
   "cell_type": "markdown",
   "metadata": {},
   "source": [
    "#### Answer:"
   ]
  },
  {
   "cell_type": "markdown",
   "metadata": {},
   "source": [
    "*Your answer here*"
   ]
  }
 ],
 "metadata": {
  "kernelspec": {
   "display_name": "Python 3 (ipykernel)",
   "language": "python",
   "name": "python3"
  },
  "language_info": {
   "codemirror_mode": {
    "name": "ipython",
    "version": 3
   },
   "file_extension": ".py",
   "mimetype": "text/x-python",
   "name": "python",
   "nbconvert_exporter": "python",
   "pygments_lexer": "ipython3",
   "version": "3.9.13"
  }
 },
 "nbformat": 4,
 "nbformat_minor": 2
}
